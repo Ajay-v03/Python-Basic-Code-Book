{
 "cells": [
  {
   "cell_type": "markdown",
   "metadata": {},
   "source": [
    "## What are If statements? What are While loops?"
   ]
  },
  {
   "cell_type": "raw",
   "metadata": {},
   "source": [
    "If statements allow to examine the current state of a program and respond appropriately to that state.\n",
    "You can write a simple if statement that checks one condition, or you can create a complex series of if\n",
    "statements that idenitfy the exact conditions you're looking for.\n",
    "\n",
    "While loops run as long as certain conditions remain true. You can use while loops to let your programs\n",
    "run as long as your users want them to."
   ]
  },
  {
   "cell_type": "markdown",
   "metadata": {},
   "source": [
    "## Conditional Tests"
   ]
  },
  {
   "cell_type": "raw",
   "metadata": {},
   "source": [
    "A conditional test is an expression that can be evaluated as True or False. Python uses the values True and False to decide whether the code in an if statement should be executed."
   ]
  },
  {
   "cell_type": "markdown",
   "metadata": {},
   "source": [
    "### Checking for equality"
   ]
  },
  {
   "cell_type": "raw",
   "metadata": {},
   "source": [
    "A single equal sign assigns a value to a variable. A double equal sign (==) checks whether two values are equal."
   ]
  },
  {
   "cell_type": "code",
   "execution_count": null,
   "metadata": {},
   "outputs": [],
   "source": [
    ">>> car = 'bmw'\n",
    ">>> car == 'bmw'\n",
    "True\n",
    ">>> car = 'audi'\n",
    ">>> car == 'bmw'\n",
    "False"
   ]
  },
  {
   "cell_type": "markdown",
   "metadata": {},
   "source": [
    "### Ignoring case when making a comparison"
   ]
  },
  {
   "cell_type": "code",
   "execution_count": null,
   "metadata": {},
   "outputs": [],
   "source": [
    ">>> car = 'Audi'\n",
    ">>> car.lower() == 'audi'\n",
    "True"
   ]
  },
  {
   "cell_type": "markdown",
   "metadata": {},
   "source": [
    "### Checking for inequality"
   ]
  },
  {
   "cell_type": "code",
   "execution_count": null,
   "metadata": {},
   "outputs": [],
   "source": [
    ">>> topping = 'mushrooms'\n",
    ">>> topping != 'anchovies'\n",
    "True"
   ]
  },
  {
   "cell_type": "markdown",
   "metadata": {},
   "source": [
    "## Numerical Comparisions"
   ]
  },
  {
   "cell_type": "raw",
   "metadata": {},
   "source": [
    "Testing numerical values is similar to testing string values."
   ]
  },
  {
   "cell_type": "markdown",
   "metadata": {},
   "source": [
    "### Testing equality and inequality"
   ]
  },
  {
   "cell_type": "code",
   "execution_count": null,
   "metadata": {},
   "outputs": [],
   "source": [
    ">>> age = 18\n",
    ">>> age == 18\n",
    "True\n",
    ">>> age != 18\n",
    "False"
   ]
  },
  {
   "cell_type": "markdown",
   "metadata": {},
   "source": [
    "### Comparison operators"
   ]
  },
  {
   "cell_type": "code",
   "execution_count": null,
   "metadata": {},
   "outputs": [],
   "source": [
    ">>> age = 19\n",
    ">>> age < 21\n",
    "True\n",
    ">>> age <= 21\n",
    "True\n",
    ">>> age > 21\n",
    "False\n",
    ">>> age >= 21\n",
    "False"
   ]
  },
  {
   "cell_type": "markdown",
   "metadata": {},
   "source": [
    "## Checking multiple conditions"
   ]
  },
  {
   "cell_type": "raw",
   "metadata": {},
   "source": [
    "You can check multiple conditions at the same time. The and operator returns True if all the conditions listed are True. The or operator returns True if any condition is True."
   ]
  },
  {
   "cell_type": "markdown",
   "metadata": {},
   "source": [
    "### Using and to check multiple conditions"
   ]
  },
  {
   "cell_type": "code",
   "execution_count": null,
   "metadata": {},
   "outputs": [],
   "source": [
    ">> age_0 = 22\n",
    ">>> age_1 = 18\n",
    ">>> age_0 >= 21 and age_1 >= 21\n",
    "False\n",
    ">>> age_1 = 23\n",
    ">>> age_0 >= 21 and age_1 >= 21\n",
    "True"
   ]
  },
  {
   "cell_type": "markdown",
   "metadata": {},
   "source": [
    "### Using or to check multiple conditions"
   ]
  },
  {
   "cell_type": "code",
   "execution_count": null,
   "metadata": {},
   "outputs": [],
   "source": [
    ">>> age_0 = 22\n",
    ">>> age_1 = 18\n",
    ">>> age_0 >= 21 or age_1 >= 21\n",
    "True\n",
    ">>> age_0 = 18\n",
    ">>> age_0 >= 21 or age_1 >= 21\n",
    "False"
   ]
  },
  {
   "cell_type": "markdown",
   "metadata": {},
   "source": [
    "## Boolean Values"
   ]
  },
  {
   "cell_type": "raw",
   "metadata": {},
   "source": [
    "A boolean value is either True or False. Variables with boolean values are often used to keep track of certain\n",
    "conditions within a program."
   ]
  },
  {
   "cell_type": "markdown",
   "metadata": {},
   "source": [
    "### Simple boolean values"
   ]
  },
  {
   "cell_type": "code",
   "execution_count": null,
   "metadata": {},
   "outputs": [],
   "source": [
    "game_active = True\n",
    "can_edit = False"
   ]
  },
  {
   "cell_type": "markdown",
   "metadata": {},
   "source": [
    "## If statements"
   ]
  },
  {
   "cell_type": "raw",
   "metadata": {},
   "source": [
    "Several kinds of if statements exist. Your choice of which to use depends on the number of conditions you need to test.\n",
    "You can have as many elif blocks as you need, and the else block is always optional."
   ]
  },
  {
   "cell_type": "markdown",
   "metadata": {},
   "source": [
    "### Simple if statement"
   ]
  },
  {
   "cell_type": "code",
   "execution_count": null,
   "metadata": {},
   "outputs": [],
   "source": [
    "age = 19\n",
    "\n",
    "if age >= 18:\n",
    "    print(\"You're old enough to vote!\")"
   ]
  },
  {
   "cell_type": "markdown",
   "metadata": {},
   "source": [
    "### If-else statements"
   ]
  },
  {
   "cell_type": "code",
   "execution_count": null,
   "metadata": {},
   "outputs": [],
   "source": [
    "age = 17\n",
    "\n",
    "if age >= 18:\n",
    "    print(\"You're old enough to vote!\")\n",
    "else:\n",
    "    print(\"You can't vote yet.\")"
   ]
  },
  {
   "cell_type": "markdown",
   "metadata": {},
   "source": [
    "### The if-elif-else chain"
   ]
  },
  {
   "cell_type": "code",
   "execution_count": null,
   "metadata": {},
   "outputs": [],
   "source": [
    "age = 12\n",
    "\n",
    "if age < 4:\n",
    "    price = 0\n",
    "elif age < 18:\n",
    "    price = 5\n",
    "else:\n",
    "    price = 10\n",
    "    \n",
    "print(\"Your cost is $\" + str(price) + \".\")"
   ]
  },
  {
   "cell_type": "markdown",
   "metadata": {},
   "source": [
    "## Conditional tests with lists"
   ]
  },
  {
   "cell_type": "raw",
   "metadata": {},
   "source": [
    "You can easily test whether a certain value is in a list. You can also test whether a list is empty before trying to loop through the list."
   ]
  },
  {
   "cell_type": "markdown",
   "metadata": {},
   "source": [
    "### Testing if a value is in a list"
   ]
  },
  {
   "cell_type": "code",
   "execution_count": null,
   "metadata": {},
   "outputs": [],
   "source": [
    ">>> players = ['al', 'bea', 'cyn', 'dale']\n",
    ">>> 'al' in players\n",
    "True\n",
    ">>> 'eric' in players\n",
    "False"
   ]
  },
  {
   "cell_type": "markdown",
   "metadata": {},
   "source": [
    "### Testing if a value is not in a list"
   ]
  },
  {
   "cell_type": "code",
   "execution_count": 2,
   "metadata": {},
   "outputs": [],
   "source": [
    "banned_users = ['ann', 'chad', 'dee']\n",
    "user = 'erin'\n",
    "\n",
    "if user not in banned_users:\n",
    "    print(\"You can play!\")"
   ]
  },
  {
   "cell_type": "markdown",
   "metadata": {},
   "source": [
    "### Checking if a list is empty"
   ]
  },
  {
   "cell_type": "code",
   "execution_count": null,
   "metadata": {},
   "outputs": [],
   "source": [
    "players = []\n",
    "\n",
    "if players:\n",
    "    for player in players:\n",
    "        print(\"Player: \" + player.title())\n",
    "else:\n",
    "    print(\"We have no players yet!\")"
   ]
  },
  {
   "cell_type": "markdown",
   "metadata": {},
   "source": [
    "## Accepting input"
   ]
  },
  {
   "cell_type": "raw",
   "metadata": {},
   "source": [
    "You can allow your users to enter input using the input() statement. In Python 3, all input is stored as a string."
   ]
  },
  {
   "cell_type": "markdown",
   "metadata": {},
   "source": [
    "### Simple input"
   ]
  },
  {
   "cell_type": "code",
   "execution_count": null,
   "metadata": {},
   "outputs": [],
   "source": [
    "name = input(\"What's your name? \")\n",
    "print(\"Hello, \" + name + \".\")"
   ]
  },
  {
   "cell_type": "markdown",
   "metadata": {},
   "source": [
    "### Accepting numerical input"
   ]
  },
  {
   "cell_type": "code",
   "execution_count": null,
   "metadata": {},
   "outputs": [],
   "source": [
    "age = input(\"How old are you? \")\n",
    "age = int(age)\n",
    "\n",
    "if age >= 18:\n",
    "    print(\"\\nYou can vote!\")\n",
    "else:\n",
    "    print(\"\\nYou can't vote yet.\")"
   ]
  },
  {
   "cell_type": "raw",
   "metadata": {},
   "source": [
    "Accepting input in Python 2.7\n",
    "Use raw_input() in Python 2.7. This function interprets all input as a string, just as input() does in Python 3."
   ]
  },
  {
   "cell_type": "markdown",
   "metadata": {},
   "source": [
    "## While loop"
   ]
  },
  {
   "cell_type": "raw",
   "metadata": {},
   "source": [
    "A while loop repeats a block of code as long as a condition is True."
   ]
  },
  {
   "cell_type": "markdown",
   "metadata": {},
   "source": [
    "### Counting to 5"
   ]
  },
  {
   "cell_type": "code",
   "execution_count": null,
   "metadata": {},
   "outputs": [],
   "source": [
    "current_number = 1\n",
    "\n",
    "while current_number <= 5:\n",
    "    print(current_number)\n",
    "    current_number += 1"
   ]
  },
  {
   "cell_type": "markdown",
   "metadata": {},
   "source": [
    "### Letting the user choose when to quit"
   ]
  },
  {
   "cell_type": "code",
   "execution_count": null,
   "metadata": {},
   "outputs": [],
   "source": [
    "prompt = \"\\nTell me something, and I'll \"\n",
    "prompt += \"repeat it back to you.\"\n",
    "prompt += \"\\nEnter 'quit' to end the program. \"\n",
    "\n",
    "message = \"\"\n",
    "while message != 'quit':\n",
    "    message = input(prompt)\n",
    "\n",
    "    if message != 'quit':\n",
    "        print(message)"
   ]
  },
  {
   "cell_type": "markdown",
   "metadata": {},
   "source": [
    "### Using a flag"
   ]
  },
  {
   "cell_type": "code",
   "execution_count": null,
   "metadata": {},
   "outputs": [],
   "source": [
    "prompt = \"\\nTell me something, and I'll \"\n",
    "prompt += \"repeat it back to you.\"\n",
    "prompt += \"\\nEnter 'quit' to end the program. \"\n",
    "\n",
    "active = True\n",
    "while active:\n",
    "    message = input(prompt)\n",
    "    \n",
    "    if message == 'quit':\n",
    "        active = False\n",
    "    else:\n",
    "        print(message)"
   ]
  },
  {
   "cell_type": "markdown",
   "metadata": {},
   "source": [
    "### Using break to exit a loop"
   ]
  },
  {
   "cell_type": "code",
   "execution_count": null,
   "metadata": {},
   "outputs": [],
   "source": [
    "prompt = \"\\nWhat cities have you visited?\"\n",
    "prompt += \"\\nEnter 'quit' when you're done. \"\n",
    "\n",
    "while True:\n",
    "    city = input(prompt)\n",
    "    if city == 'quit':\n",
    "        break\n",
    "    else:\n",
    "        print(\"I've been to \" + city + \"!\")"
   ]
  },
  {
   "cell_type": "markdown",
   "metadata": {},
   "source": [
    "### Using continue in a loop"
   ]
  },
  {
   "cell_type": "code",
   "execution_count": null,
   "metadata": {},
   "outputs": [],
   "source": [
    "banned_users = ['eve', 'fred', 'gary', 'helen']\n",
    "\n",
    "prompt = \"\\nAdd a player to your team.\"\n",
    "prompt += \"\\nEnter 'quit' when you're done. \"\n",
    "\n",
    "players = []\n",
    "while True:\n",
    "    player = input(prompt)\n",
    "    if player == 'quit':\n",
    "        break\n",
    "    elif player in banned_users:\n",
    "        print(player + \" is banned!\")\n",
    "        continue\n",
    "    else:\n",
    "        players.append(player)\n",
    "        \n",
    "print(\"\\nYour team:\")\n",
    "for player in players:\n",
    "    print(player)"
   ]
  },
  {
   "cell_type": "markdown",
   "metadata": {},
   "source": [
    "## Avoiding Infinite loop"
   ]
  },
  {
   "cell_type": "raw",
   "metadata": {},
   "source": [
    "Every while loop needs a way to stop running so it won't continue to run forever. If there's no way for the condition to become False, the loop will never stop running."
   ]
  },
  {
   "cell_type": "markdown",
   "metadata": {},
   "source": [
    "### An infinite loop"
   ]
  },
  {
   "cell_type": "code",
   "execution_count": null,
   "metadata": {},
   "outputs": [],
   "source": [
    "while True:\n",
    "    name = input(\"\\nWho are you? \")\n",
    "    print(\"Nice to meet you, \" + name + \"!\")"
   ]
  },
  {
   "cell_type": "markdown",
   "metadata": {},
   "source": [
    "## Removing all instances of a value from list"
   ]
  },
  {
   "cell_type": "raw",
   "metadata": {},
   "source": [
    "The remove() method removes a specific value from a list, but it only removes the first instance of the value you provide. You can use a while loop to remove all instances of a particular value."
   ]
  },
  {
   "cell_type": "markdown",
   "metadata": {},
   "source": [
    "### Removing all cats from a list of pets"
   ]
  },
  {
   "cell_type": "code",
   "execution_count": null,
   "metadata": {},
   "outputs": [],
   "source": [
    "pets = ['dog', 'cat', 'dog', 'fish', 'cat','rabbit', 'cat']\n",
    "print(pets)\n",
    "\n",
    "while 'cat' in pets:\n",
    "    pets.remove('cat')\n",
    "    print(pets)"
   ]
  }
 ],
 "metadata": {
  "kernelspec": {
   "display_name": "Python 3",
   "language": "python",
   "name": "python3"
  },
  "language_info": {
   "codemirror_mode": {
    "name": "ipython",
    "version": 3
   },
   "file_extension": ".py",
   "mimetype": "text/x-python",
   "name": "python",
   "nbconvert_exporter": "python",
   "pygments_lexer": "ipython3",
   "version": "3.8.10"
  }
 },
 "nbformat": 4,
 "nbformat_minor": 4
}
