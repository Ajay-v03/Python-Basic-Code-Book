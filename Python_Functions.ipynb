{
 "cells": [
  {
   "cell_type": "markdown",
   "metadata": {},
   "source": [
    "# Python Functions"
   ]
  },
  {
   "cell_type": "markdown",
   "metadata": {},
   "source": [
    "## What are functions?"
   ]
  },
  {
   "cell_type": "raw",
   "metadata": {},
   "source": [
    "Functions are named blocks of code designed to do one specific job. Functions allow you to write code\n",
    "once that can then be run whenever you need to accomplish the same task. Functions can take in the\n",
    "information they need, and return the information they generate. Using functions effectively makes your\n",
    "programs easier to write, read, test, and fix."
   ]
  },
  {
   "cell_type": "markdown",
   "metadata": {},
   "source": [
    "## Definfing a function"
   ]
  },
  {
   "cell_type": "raw",
   "metadata": {},
   "source": [
    "The first line of a function is its definition, marked by the keyword def. The name of the function is followed by a set of parentheses and a colon. A docstring, in triple quotes,\n",
    "describes what the function does. The body of a function is indented one level.\n",
    "To call a function, give the name of the function followed by a set of parentheses."
   ]
  },
  {
   "cell_type": "markdown",
   "metadata": {},
   "source": [
    "### Making a function"
   ]
  },
  {
   "cell_type": "code",
   "execution_count": 2,
   "metadata": {},
   "outputs": [],
   "source": [
    "def greet_user():\n",
    "    \"\"\"Display a simple greeting.\"\"\"\n",
    "    print(\"Hello!\")\n",
    "    \n",
    "greet_user()"
   ]
  },
  {
   "cell_type": "markdown",
   "metadata": {},
   "source": [
    "## Passing information to a function"
   ]
  },
  {
   "cell_type": "raw",
   "metadata": {},
   "source": [
    "Information that's passed to a function is called an argument; information that's received by a function is called a parameter. Arguments are included in parentheses after the function's name, and parameters are listed in parentheses in the function's definition."
   ]
  },
  {
   "cell_type": "markdown",
   "metadata": {},
   "source": [
    "### Passing a single argument"
   ]
  },
  {
   "cell_type": "code",
   "execution_count": null,
   "metadata": {},
   "outputs": [],
   "source": [
    "def greet_user(username):\n",
    "    \"\"\"Display a simple greeting.\"\"\"\n",
    "    print(\"Hello, \" + username + \"!\")\n",
    "    \n",
    "greet_user('jesse')\n",
    "greet_user('diana')\n",
    "greet_user('brandon')"
   ]
  },
  {
   "cell_type": "markdown",
   "metadata": {},
   "source": [
    "## Positional and keyword arguments"
   ]
  },
  {
   "cell_type": "raw",
   "metadata": {},
   "source": [
    "The two main kinds of arguments are positional and keyword arguments. When you use positional arguments\n",
    "Python matches the first argument in the function call with the first parameter in the function definition, and so forth.\n",
    "With keyword arguments, you specify which parameter each argument should be assigned to in the function call.\n",
    "When you use keyword arguments, the order of the arguments doesn't matter."
   ]
  },
  {
   "cell_type": "markdown",
   "metadata": {},
   "source": [
    "### Using positional arguments"
   ]
  },
  {
   "cell_type": "code",
   "execution_count": null,
   "metadata": {},
   "outputs": [],
   "source": [
    "def describe_pet(animal, name):\n",
    "    \"\"\"Display information about a pet.\"\"\"\n",
    "    print(\"\\nI have a \" + animal + \".\")\n",
    "    print(\"Its name is \" + name + \".\")\n",
    "    \n",
    "describe_pet('hamster', 'harry')\n",
    "describe_pet('dog', 'willie')"
   ]
  },
  {
   "cell_type": "markdown",
   "metadata": {},
   "source": [
    "### Using keyword arguments"
   ]
  },
  {
   "cell_type": "code",
   "execution_count": null,
   "metadata": {},
   "outputs": [],
   "source": [
    "def describe_pet(animal, name):\n",
    "    \"\"\"Display information about a pet.\"\"\"\n",
    "    print(\"\\nI have a \" + animal + \".\")\n",
    "    print(\"Its name is \" + name + \".\")\n",
    "    \n",
    "describe_pet(animal='hamster', name='harry')\n",
    "describe_pet(name='willie', animal='dog')"
   ]
  },
  {
   "cell_type": "markdown",
   "metadata": {},
   "source": [
    "## Default values"
   ]
  },
  {
   "cell_type": "raw",
   "metadata": {},
   "source": [
    "You can provide a default value for a parameter. When function calls omit this argument the default value will be used. Parameters with default values must be listed after parameters without default values in the function's definition so positional arguments can still work correctly."
   ]
  },
  {
   "cell_type": "markdown",
   "metadata": {},
   "source": [
    "### Using a default value"
   ]
  },
  {
   "cell_type": "code",
   "execution_count": null,
   "metadata": {},
   "outputs": [],
   "source": [
    "def describe_pet(name, animal='dog'):\n",
    "    \"\"\"Display information about a pet.\"\"\"\n",
    "    print(\"\\nI have a \" + animal + \".\")\n",
    "    print(\"Its name is \" + name + \".\")\n",
    "    \n",
    "describe_pet('harry', 'hamster')\n",
    "describe_pet('willie')"
   ]
  },
  {
   "cell_type": "markdown",
   "metadata": {},
   "source": [
    "### Using None to make an argument optional"
   ]
  },
  {
   "cell_type": "code",
   "execution_count": null,
   "metadata": {},
   "outputs": [],
   "source": [
    "def describe_pet(animal, name=None):\n",
    "    \"\"\"Display information about a pet.\"\"\"\n",
    "    print(\"\\nI have a \" + animal + \".\")\n",
    "    if name:\n",
    "        print(\"Its name is \" + name + \".\")\n",
    "        \n",
    "describe_pet('hamster', 'harry')\n",
    "describe_pet('snake')"
   ]
  },
  {
   "cell_type": "markdown",
   "metadata": {},
   "source": [
    "## Return value"
   ]
  },
  {
   "cell_type": "raw",
   "metadata": {},
   "source": [
    "A function can return a value or a set of values. When a function returns a value, the calling line must provide a variable in which to store the return value. A function stops running when it reaches a return statement."
   ]
  },
  {
   "cell_type": "markdown",
   "metadata": {},
   "source": [
    "### Returning a single value"
   ]
  },
  {
   "cell_type": "code",
   "execution_count": null,
   "metadata": {},
   "outputs": [],
   "source": [
    "def get_full_name(first, last):\n",
    "    \"\"\"Return a neatly formatted full name.\"\"\"\n",
    "    full_name = first + ' ' + last\n",
    "    return full_name.title()\n",
    "\n",
    "musician = get_full_name('jimi', 'hendrix')\n",
    "print(musician)"
   ]
  },
  {
   "cell_type": "markdown",
   "metadata": {},
   "source": [
    "### Returning a dictionary"
   ]
  },
  {
   "cell_type": "code",
   "execution_count": 4,
   "metadata": {},
   "outputs": [],
   "source": [
    "def build_person(first, last):\n",
    "    \"\"\"Return a dictionary of information\n",
    "    about a person.\n",
    "    \"\"\"\n",
    "    person = {'first': first, 'last': last}\n",
    "    return person\n",
    "\n",
    "musician = build_person('jimi', 'hendrix')\n",
    "print(musician)"
   ]
  },
  {
   "cell_type": "markdown",
   "metadata": {},
   "source": [
    "### Returning a dictionary with optional values"
   ]
  },
  {
   "cell_type": "code",
   "execution_count": 7,
   "metadata": {},
   "outputs": [],
   "source": [
    "def build_person(first, last, age=None):\n",
    "    \"\"\"Return a dictionary of information\n",
    "    about a person.\n",
    "    \"\"\"\n",
    "    person = {'first': first, 'last': last}\n",
    "    if age:\n",
    "        person['age'] = age\n",
    "    return person\n",
    "               \n",
    "musician = build_person('jimi', 'hendrix', 27)\n",
    "print(musician)\n",
    "               \n",
    "musician = build_person('janis', 'joplin')\n",
    "print(musician)        "
   ]
  },
  {
   "cell_type": "markdown",
   "metadata": {},
   "source": [
    "## Passing a list to a function"
   ]
  },
  {
   "cell_type": "raw",
   "metadata": {},
   "source": [
    "We can pass a list as an argument to a function, and the function can work with the values in the list. Any changes the function makes to the list will affect the original list. You can prevent a function from modifying a list by passing a copy of the list as an argument."
   ]
  },
  {
   "cell_type": "markdown",
   "metadata": {},
   "source": [
    "### Passing a list as an argument"
   ]
  },
  {
   "cell_type": "code",
   "execution_count": 11,
   "metadata": {},
   "outputs": [],
   "source": [
    "def greet_users(names):\n",
    "    \"\"\"Print a simple greeting to everyone.\"\"\"\n",
    "    for name in names:\n",
    "        msg = \"Hello, \" + name + \"!\"\n",
    "        print(msg)\n",
    "        \n",
    "usernames = ['hannah', 'ty', 'margot']\n",
    "greet_users(usernames)"
   ]
  },
  {
   "cell_type": "raw",
   "metadata": {},
   "source": [
    "Allowing a function to modify a list\n",
    "The following example sends a list of models to a function for\n",
    "printing. The original list is emptied, and the second list is filled."
   ]
  },
  {
   "cell_type": "code",
   "execution_count": 13,
   "metadata": {},
   "outputs": [],
   "source": [
    "def print_models(unprinted, printed):\n",
    "    \"\"\"3d print a set of models.\"\"\"\n",
    "    while unprinted:\n",
    "        current_model = unprinted.pop()\n",
    "        print(\"Printing \" + current_model)\n",
    "        printed.append(current_model)\n",
    "        \n",
    "# Store some unprinted designs,\n",
    "# and print each of them.\n",
    "unprinted = ['phone case', 'pendant', 'ring']\n",
    "printed = []\n",
    "print_models(unprinted, printed)\n",
    "\n",
    "print(\"\\nUnprinted:\", unprinted)\n",
    "print(\"Printed:\", printed)"
   ]
  },
  {
   "cell_type": "raw",
   "metadata": {},
   "source": [
    "Preventing a function from modifying a list\n",
    "The following example is the same as the previous one, except the\n",
    "original list is unchanged after calling print_models()."
   ]
  },
  {
   "cell_type": "code",
   "execution_count": 15,
   "metadata": {},
   "outputs": [],
   "source": [
    "def print_models(unprinted, printed):\n",
    "    \"\"\"3d print a set of models.\"\"\"\n",
    "    while unprinted:\n",
    "        current_model = unprinted.pop()\n",
    "        print(\"Printing \" + current_model)\n",
    "        printed.append(current_model)\n",
    "        \n",
    "# Store some unprinted designs,\n",
    "# and print each of them.\n",
    "original = ['phone case', 'pendant', 'ring']\n",
    "printed = []\n",
    "\n",
    "print_models(original[:], printed)\n",
    "print(\"\\nOriginal:\", original)\n",
    "print(\"Printed:\", printed)"
   ]
  },
  {
   "cell_type": "markdown",
   "metadata": {},
   "source": [
    "## Passing an arbitary number of arguments"
   ]
  },
  {
   "cell_type": "raw",
   "metadata": {},
   "source": [
    "Sometimes we won't know how many arguments a function will need to accept. Python allows you to collect an\n",
    "arbitrary number of arguments into one parameter using the * operator. A parameter that accepts an arbitrary number of arguments must come last in the function definition.\n",
    "\n",
    "The ** operator allows a parameter to collect an arbitrary number of keyword arguments."
   ]
  },
  {
   "cell_type": "markdown",
   "metadata": {},
   "source": [
    "### Collecting an arbitrary number of arguments"
   ]
  },
  {
   "cell_type": "code",
   "execution_count": 17,
   "metadata": {},
   "outputs": [],
   "source": [
    "def make_pizza(size, *toppings):\n",
    "    \"\"\"Make a pizza.\"\"\"\n",
    "    print(\"\\nMaking a \" + size + \" pizza.\")\n",
    "    print(\"Toppings:\")\n",
    "    for topping in toppings:\n",
    "        print(\"- \" + topping)\n",
    "        \n",
    "# Make three pizzas with different toppings.\n",
    "make_pizza('small', 'pepperoni')\n",
    "make_pizza('large', 'bacon bits', 'pineapple')\n",
    "make_pizza('medium', 'mushrooms', 'peppers','onions', 'extra cheese')"
   ]
  },
  {
   "cell_type": "markdown",
   "metadata": {},
   "source": [
    "### Collecting an arbitrary number of keyword arguments"
   ]
  },
  {
   "cell_type": "code",
   "execution_count": 19,
   "metadata": {},
   "outputs": [],
   "source": [
    "def build_profile(first, last, **user_info):\n",
    "    \"\"\"Build a user's profile dictionary.\"\"\"\n",
    "    # Build a dict with the required keys.\n",
    "    profile = {'first': first, 'last': last}\n",
    "    \n",
    "    # Add any other keys and values.\n",
    "    for key, value in user_info.items():\n",
    "        profile[key] = value\n",
    "        \n",
    "    return profile\n",
    "\n",
    "\n",
    "# Create two users with different kinds\n",
    "#of information.\n",
    "user_0 = build_profile('albert', 'einstein',location='princeton')\n",
    "user_1 = build_profile('marie', 'curie',location='paris', field='chemistry')\n",
    "print(user_0)\n",
    "print(user_1)"
   ]
  },
  {
   "cell_type": "markdown",
   "metadata": {},
   "source": [
    "## Modules"
   ]
  },
  {
   "cell_type": "raw",
   "metadata": {},
   "source": [
    "We can store functions in a separate file called a module, and then import the functions we need into the file\n",
    "containing your main program. This allows for cleaner program files. (Make sure your module is stored in the same directory as your main program.)"
   ]
  },
  {
   "cell_type": "markdown",
   "metadata": {},
   "source": [
    "### Storing a function in a module"
   ]
  },
  {
   "cell_type": "raw",
   "metadata": {},
   "source": [
    "File: pizza.py"
   ]
  },
  {
   "cell_type": "code",
   "execution_count": 20,
   "metadata": {},
   "outputs": [],
   "source": [
    "def make_pizza(size, *toppings):\n",
    "    \"\"\"Make a pizza.\"\"\"\n",
    "    print(\"\\nMaking a \" + size + \" pizza.\")\n",
    "    print(\"Toppings:\")\n",
    "    for topping in toppings:\n",
    "        print(\"- \" + topping)"
   ]
  },
  {
   "cell_type": "markdown",
   "metadata": {},
   "source": [
    "### Importing an entire module"
   ]
  },
  {
   "cell_type": "raw",
   "metadata": {},
   "source": [
    "Importing an entire module\n",
    "File: making_pizzas.py\n",
    "Every function in the module is available in the program file."
   ]
  },
  {
   "cell_type": "code",
   "execution_count": null,
   "metadata": {},
   "outputs": [],
   "source": [
    "import pizza\n",
    "\n",
    "pizza.make_pizza('medium', 'pepperoni')\n",
    "pizza.make_pizza('small', 'bacon', 'pineapple')"
   ]
  },
  {
   "cell_type": "markdown",
   "metadata": {},
   "source": [
    "### Importing a specific function\n",
    "Only the imported functions are available in the program file."
   ]
  },
  {
   "cell_type": "code",
   "execution_count": null,
   "metadata": {},
   "outputs": [],
   "source": [
    "from pizza import make_pizza\n",
    "\n",
    "make_pizza('medium', 'pepperoni')\n",
    "make_pizza('small', 'bacon', 'pineapple')"
   ]
  },
  {
   "cell_type": "markdown",
   "metadata": {},
   "source": [
    "### Giving a module an alias"
   ]
  },
  {
   "cell_type": "code",
   "execution_count": null,
   "metadata": {},
   "outputs": [],
   "source": [
    "import pizza as p\n",
    "\n",
    "p.make_pizza('medium', 'pepperoni')\n",
    "p.make_pizza('small', 'bacon', 'pineapple')"
   ]
  },
  {
   "cell_type": "markdown",
   "metadata": {},
   "source": [
    "### Giving a function an alias"
   ]
  },
  {
   "cell_type": "code",
   "execution_count": null,
   "metadata": {},
   "outputs": [],
   "source": [
    "from pizza import make_pizza as mp\n",
    "\n",
    "mp('medium', 'pepperoni')\n",
    "mp('small', 'bacon', 'pineapple')"
   ]
  },
  {
   "cell_type": "markdown",
   "metadata": {},
   "source": [
    "### Importing all functions from a module\n",
    "Don't do this, but recognize it when you see it in others' code. It\n",
    "can result in naming conflicts, which can cause errors."
   ]
  },
  {
   "cell_type": "code",
   "execution_count": null,
   "metadata": {},
   "outputs": [],
   "source": [
    "from pizza import *\n",
    "\n",
    "make_pizza('medium', 'pepperoni')\n",
    "make_pizza('small', 'bacon', 'pineapple')"
   ]
  },
  {
   "cell_type": "markdown",
   "metadata": {},
   "source": [
    "## What's the best way to structure a function?"
   ]
  },
  {
   "cell_type": "raw",
   "metadata": {},
   "source": [
    "As we can see there are many ways to write and call a function. When we're starting out, aim for something that simply works. \n",
    "As we gain experience we'll develop an understanding of the more subtle advantages of different structures such as positional and keyword arguments, and the various approaches to importing functions. For now if\n",
    "your functions do what you need them to, you're doing well."
   ]
  }
 ],
 "metadata": {
  "kernelspec": {
   "display_name": "Python 3",
   "language": "python",
   "name": "python3"
  },
  "language_info": {
   "codemirror_mode": {
    "name": "ipython",
    "version": 3
   },
   "file_extension": ".py",
   "mimetype": "text/x-python",
   "name": "python",
   "nbconvert_exporter": "python",
   "pygments_lexer": "ipython3",
   "version": "3.8.10"
  }
 },
 "nbformat": 4,
 "nbformat_minor": 4
}
