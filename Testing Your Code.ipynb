{
 "cells": [
  {
   "cell_type": "markdown",
   "metadata": {},
   "source": [
    "## Why test your code?"
   ]
  },
  {
   "cell_type": "raw",
   "metadata": {},
   "source": [
    "When you write a function or a class, you can also write tests for that code. Testing proves that your\n",
    "code works as it's supposed to in the situations it's designed to handle, and also when people use your\n",
    "programs in unexpected ways. Writing tests gives you confidence that your code will work correctly as\n",
    "more people begin to use your programs. You can also add new features to your programs and know\n",
    "that you haven't broken existing behavior.\n",
    "\n",
    "A unit test verifies that one specific aspect of your code works as it's supposed to. A test case is a\n",
    "collection of unit tests which verify your code's behavior in a wide variety of situations."
   ]
  },
  {
   "cell_type": "markdown",
   "metadata": {},
   "source": [
    "## Testing a function: Apassing test"
   ]
  },
  {
   "cell_type": "raw",
   "metadata": {},
   "source": [
    "Python's unittest module provides tools for testing your code. To try it out, we’ll create a function that returns a full name. We’ll use the function in a regular program, and then\n",
    "build a test case for the function."
   ]
  },
  {
   "cell_type": "markdown",
   "metadata": {},
   "source": [
    "### A function to test\n",
    "Save this as full_names.py"
   ]
  },
  {
   "cell_type": "code",
   "execution_count": 1,
   "metadata": {},
   "outputs": [],
   "source": [
    "def get_full_name(first, last):\n",
    "    \"\"\"Return a full name.\"\"\"\n",
    "    full_name = \"{0} {1}\".format(first, last)\n",
    "    return full_name.title()"
   ]
  },
  {
   "cell_type": "markdown",
   "metadata": {},
   "source": [
    "### Using the function\n",
    "Save this as names.py"
   ]
  },
  {
   "cell_type": "code",
   "execution_count": 3,
   "metadata": {},
   "outputs": [],
   "source": [
    "from full_names import get_full_name\n",
    "\n",
    "janis = get_full_name('janis', 'joplin')\n",
    "print(janis)\n",
    "\n",
    "bob = get_full_name('bob', 'dylan')\n",
    "print(bob)"
   ]
  },
  {
   "cell_type": "markdown",
   "metadata": {},
   "source": [
    "### Building a testcase with one unit test Running the test\n",
    "To build a test case, make a class that inherits from unittest.TestCase and write methods that begin with test_. Save this as test_full_names.py"
   ]
  },
  {
   "cell_type": "code",
   "execution_count": null,
   "metadata": {},
   "outputs": [],
   "source": [
    "import unittest\n",
    "from full_names import get_full_name\n",
    "\n",
    "class NamesTestCase(unittest.TestCase):\n",
    "    \"\"\"Tests for names.py.\"\"\"\n",
    "    def test_first_last(self):\n",
    "        \"\"\"Test names like Janis Joplin.\"\"\"\n",
    "        full_name = get_full_name('janis','joplin')\n",
    "        self.assertEqual(full_name,'Janis Joplin')\n",
    "        \n",
    "unittest.main()"
   ]
  },
  {
   "cell_type": "markdown",
   "metadata": {},
   "source": [
    "### Running the test\n",
    "Python reports on each unit test in the test case. The dot reports a\n",
    "single passing test. Python informs us that it ran 1 test in less than\n",
    "0.001 seconds, and the OK lets us know that all unit tests in the\n",
    "test case passed."
   ]
  },
  {
   "cell_type": "raw",
   "metadata": {},
   "source": [
    "Ran 1 test in 0.000s\n",
    "OK"
   ]
  },
  {
   "cell_type": "markdown",
   "metadata": {},
   "source": [
    "## Testing a function: A failing test"
   ]
  },
  {
   "cell_type": "raw",
   "metadata": {},
   "source": [
    "Failing tests are important; they tell you that a change in the code has affected existing behavior. When a test fails, you need to modify the code so the existing behavior still works."
   ]
  },
  {
   "cell_type": "markdown",
   "metadata": {},
   "source": [
    "### Modifying the function\n",
    "We’ll modify get_full_name() so it handles middle names, but\n",
    "we’ll do it in a way that breaks existing behavior."
   ]
  },
  {
   "cell_type": "code",
   "execution_count": null,
   "metadata": {},
   "outputs": [],
   "source": [
    "def get_full_name(first, middle, last):\n",
    "    \n",
    "    \"\"\"Return a full name.\"\"\"\n",
    "    full_name = \"{0} {1} {2}\".format(first,middle, last)\n",
    "    \n",
    "    return full_name.title()"
   ]
  },
  {
   "cell_type": "markdown",
   "metadata": {},
   "source": [
    "### Using the function"
   ]
  },
  {
   "cell_type": "code",
   "execution_count": null,
   "metadata": {},
   "outputs": [],
   "source": [
    "from full_names import get_full_name\n",
    "\n",
    "john = get_full_name('john', 'lee', 'hooker')\n",
    "print(john)\n",
    "\n",
    "david = get_full_name('david', 'lee', 'roth')\n",
    "print(david)"
   ]
  },
  {
   "cell_type": "markdown",
   "metadata": {},
   "source": [
    "### Running the test\n",
    "When you change your code, it’s important to run your existing tests. This will tell you whether the changes you made affected existing behavior."
   ]
  },
  {
   "cell_type": "raw",
   "metadata": {},
   "source": [
    "E\n",
    "================================================\n",
    "ERROR: test_first_last (__main__.NamesTestCase)\n",
    "Test names like Janis Joplin.\n",
    "------------------------------------------------\n",
    "Traceback (most recent call last):\n",
    "    File \"test_full_names.py\", line 10,\n",
    "    in test_first_last\n",
    "    'joplin')\n",
    "TypeError: get_full_name() missing 1 required\n",
    "positional argument: 'last'\n",
    "\n",
    "\n",
    "------------------------------------------------\n",
    "Ran 1 test in 0.001s\n",
    "FAILED (errors=1)"
   ]
  },
  {
   "cell_type": "markdown",
   "metadata": {},
   "source": [
    "### Fixing the code\n",
    "When a test fails, the code needs to be modified until the test passes again. (Don’t make the mistake of rewriting your tests to fit your new code.) Here we can make the middle name optional."
   ]
  },
  {
   "cell_type": "code",
   "execution_count": 5,
   "metadata": {},
   "outputs": [],
   "source": [
    "def get_full_name(first, last, middle=''):\n",
    "    \n",
    "    \"\"\"Return a full name.\"\"\"\n",
    "    \n",
    "    if middle:\n",
    "        full_name = \"{0} {1} {2}\".format(first,middle, last)\n",
    "    else:\n",
    "        full_name = \"{0} {1}\".format(first,last)\n",
    "    \n",
    "    return full_name.title()"
   ]
  },
  {
   "cell_type": "markdown",
   "metadata": {},
   "source": [
    "### Running the test\n",
    "Now the test should pass again, which means our original functionality is still intact."
   ]
  },
  {
   "cell_type": "raw",
   "metadata": {},
   "source": [
    ".\n",
    "---------------------------------------\n",
    "Ran 1 test in 0.000s\n",
    "OK"
   ]
  },
  {
   "cell_type": "markdown",
   "metadata": {},
   "source": [
    "## "
   ]
  },
  {
   "cell_type": "markdown",
   "metadata": {},
   "source": [
    "## Adding new tests"
   ]
  },
  {
   "cell_type": "raw",
   "metadata": {},
   "source": [
    "You can add as many unit tests to a test case as you need. To write a new test, add a new method to your test case class."
   ]
  },
  {
   "cell_type": "markdown",
   "metadata": {},
   "source": [
    "### Testing middle names\n",
    "We’ve shown that get_full_name() works for first and last names. Let’s test that it works for middle names as well."
   ]
  },
  {
   "cell_type": "code",
   "execution_count": 7,
   "metadata": {},
   "outputs": [],
   "source": [
    "import unittest\n",
    "from full_names import get_full_name\n",
    "\n",
    "class NamesTestCase(unittest.TestCase):\n",
    "    \"\"\"Tests for names.py.\"\"\"\n",
    "    \n",
    "    def test_first_last(self):\n",
    "        \"\"\"Test names like Janis Joplin.\"\"\"\n",
    "        \n",
    "        full_name = get_full_name('janis','joplin')\n",
    "        self.assertEqual(full_name,'Janis Joplin')\n",
    "        \n",
    "    def test_middle(self):\n",
    "        \"\"\"Test names like David Lee Roth.\"\"\"\n",
    "        \n",
    "        full_name = get_full_name('david','roth', 'lee')\n",
    "        self.assertEqual(full_name,'David Lee Roth')\n",
    "        \n",
    "unittest.main()"
   ]
  },
  {
   "cell_type": "markdown",
   "metadata": {},
   "source": [
    "### Running the tests\n",
    "The two dots represent two passing tests."
   ]
  },
  {
   "cell_type": "raw",
   "metadata": {},
   "source": [
    "..\n",
    "---------------------------------------\n",
    "Ran 2 tests in 0.000s\n",
    "OK"
   ]
  },
  {
   "cell_type": "markdown",
   "metadata": {},
   "source": [
    "## "
   ]
  },
  {
   "cell_type": "markdown",
   "metadata": {},
   "source": [
    "## A variety of assert methods"
   ]
  },
  {
   "cell_type": "raw",
   "metadata": {},
   "source": [
    "Python provides a number of assert methods you can use to test your code."
   ]
  },
  {
   "cell_type": "markdown",
   "metadata": {},
   "source": [
    "### Verify that a==b, or a != b"
   ]
  },
  {
   "cell_type": "code",
   "execution_count": null,
   "metadata": {},
   "outputs": [],
   "source": [
    "assertEqual(a, b)\n",
    "assertNotEqual(a, b)"
   ]
  },
  {
   "cell_type": "markdown",
   "metadata": {},
   "source": [
    "### Verify that x is True, or x is False"
   ]
  },
  {
   "cell_type": "code",
   "execution_count": null,
   "metadata": {},
   "outputs": [],
   "source": [
    "assertTrue(x)\n",
    "assertFalse(x)"
   ]
  },
  {
   "cell_type": "markdown",
   "metadata": {},
   "source": [
    "### Verify an item is in a list, or not in a list"
   ]
  },
  {
   "cell_type": "code",
   "execution_count": null,
   "metadata": {},
   "outputs": [],
   "source": [
    "assertIn(item, list)\n",
    "assertNotIn(item, list)"
   ]
  },
  {
   "cell_type": "markdown",
   "metadata": {},
   "source": [
    "## "
   ]
  },
  {
   "cell_type": "markdown",
   "metadata": {},
   "source": [
    "## Testing a class"
   ]
  },
  {
   "cell_type": "raw",
   "metadata": {},
   "source": [
    "Testing a class is similar to testing a function, since you’ll mostly be testing your methods."
   ]
  },
  {
   "cell_type": "markdown",
   "metadata": {},
   "source": [
    "### A class to test\n",
    "Save as accountant.py"
   ]
  },
  {
   "cell_type": "code",
   "execution_count": null,
   "metadata": {},
   "outputs": [],
   "source": [
    "class Accountant():\n",
    "    \"\"\"Manage a bank account.\"\"\"\n",
    "    \n",
    "    def __init__(self, balance=0):\n",
    "        self.balance = balance\n",
    "        \n",
    "    def deposit(self, amount):\n",
    "        self.balance += amount\n",
    "        \n",
    "    def withdraw(self, amount):\n",
    "        self.balance -= amount"
   ]
  },
  {
   "cell_type": "markdown",
   "metadata": {},
   "source": [
    "### Building a testcase\n",
    "For the first test, we’ll make sure we can start out with different initial balances. Save this as test_accountant.py."
   ]
  },
  {
   "cell_type": "code",
   "execution_count": null,
   "metadata": {},
   "outputs": [],
   "source": [
    "import unittest\n",
    "from accountant import Accountant\n",
    "\n",
    "class TestAccountant(unittest.TestCase):\n",
    "    \"\"\"Tests for the class Accountant.\"\"\"\n",
    "    \n",
    "    def test_initial_balance(self):\n",
    "        \n",
    "        # Default balance should be 0.\n",
    "        acc = Accountant()\n",
    "        self.assertEqual(acc.balance, 0)\n",
    "        \n",
    "        # Test non-default balance.\n",
    "        acc = Accountant(100)\n",
    "        self.assertEqual(acc.balance, 100)\n",
    "    \n",
    "unittest.main()"
   ]
  },
  {
   "cell_type": "markdown",
   "metadata": {},
   "source": [
    "### Running the test"
   ]
  },
  {
   "cell_type": "raw",
   "metadata": {},
   "source": [
    ".\n",
    "---------------------------------------\n",
    "Ran 1 test in 0.000s\n",
    "\n",
    "OK"
   ]
  },
  {
   "cell_type": "markdown",
   "metadata": {},
   "source": [
    "## "
   ]
  },
  {
   "cell_type": "markdown",
   "metadata": {},
   "source": [
    "## The setUp() method"
   ]
  },
  {
   "cell_type": "raw",
   "metadata": {},
   "source": [
    "When testing a class, you usually have to make an instance of the class. The setUp() method is run before every test.\n",
    "Any instances you make in setUp() are available in every test you write."
   ]
  },
  {
   "cell_type": "markdown",
   "metadata": {},
   "source": [
    "### Using setUp() to support multiple tests\n",
    "The instance self.acc can be used in each new test."
   ]
  },
  {
   "cell_type": "code",
   "execution_count": null,
   "metadata": {},
   "outputs": [],
   "source": [
    "import unittest\n",
    "from accountant import Accountant\n",
    "\n",
    "class TestAccountant(unittest.TestCase):\n",
    "    \"\"\"Tests for the class Accountant.\"\"\"\n",
    "    \n",
    "    def setUp(self):\n",
    "        self.acc = Accountant()\n",
    "        \n",
    "    def test_initial_balance(self):\n",
    "        \n",
    "        # Default balance should be 0.\n",
    "        self.assertEqual(self.acc.balance, 0)\n",
    "        \n",
    "        # Test non-default balance.\n",
    "        acc = Accountant(100)\n",
    "        self.assertEqual(acc.balance, 100)\n",
    "        \n",
    "    def test_deposit(self):\n",
    "        # Test single deposit.\n",
    "        self.acc.deposit(100)\n",
    "        self.assertEqual(self.acc.balance, 100)\n",
    "        \n",
    "        # Test multiple deposits.\n",
    "        self.acc.deposit(100)\n",
    "        self.acc.deposit(100)\n",
    "        self.assertEqual(self.acc.balance, 300)\n",
    "        \n",
    "    def test_withdrawal(self):\n",
    "        \n",
    "        # Test single withdrawal.\n",
    "        self.acc.deposit(1000)\n",
    "        self.acc.withdraw(100)\n",
    "        self.assertEqual(self.acc.balance, 900)\n",
    "        \n",
    "unittest.main()"
   ]
  },
  {
   "cell_type": "markdown",
   "metadata": {},
   "source": [
    "### Running the tests"
   ]
  },
  {
   "cell_type": "raw",
   "metadata": {},
   "source": [
    "...\n",
    "---------------------------------------\n",
    "Ran 3 tests in 0.001s\n",
    "OK"
   ]
  }
 ],
 "metadata": {
  "kernelspec": {
   "display_name": "Python 3",
   "language": "python",
   "name": "python3"
  },
  "language_info": {
   "codemirror_mode": {
    "name": "ipython",
    "version": 3
   },
   "file_extension": ".py",
   "mimetype": "text/x-python",
   "name": "python",
   "nbconvert_exporter": "python",
   "pygments_lexer": "ipython3",
   "version": "3.8.10"
  }
 },
 "nbformat": 4,
 "nbformat_minor": 4
}
